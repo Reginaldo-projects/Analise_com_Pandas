{
 "cells": [
  {
   "cell_type": "markdown",
   "id": "609da547",
   "metadata": {},
   "source": [
    "<h1 align= \"center\">📊Modelagem com Pandas e Matplotlib.</h1>"
   ]
  },
  {
   "cell_type": "markdown",
   "id": "39f93843",
   "metadata": {},
   "source": [
    "<h3 align= \"center\" >Tratando os dados e verificando o faturamento das Lojas.</h3>"
   ]
  },
  {
   "cell_type": "code",
   "execution_count": 171,
   "id": "4ae0f921",
   "metadata": {},
   "outputs": [
    {
     "data": {
      "text/html": [
       "<div>\n",
       "<style scoped>\n",
       "    .dataframe tbody tr th:only-of-type {\n",
       "        vertical-align: middle;\n",
       "    }\n",
       "\n",
       "    .dataframe tbody tr th {\n",
       "        vertical-align: top;\n",
       "    }\n",
       "\n",
       "    .dataframe thead th {\n",
       "        text-align: right;\n",
       "    }\n",
       "</style>\n",
       "<table border=\"1\" class=\"dataframe\">\n",
       "  <thead>\n",
       "    <tr style=\"text-align: right;\">\n",
       "      <th></th>\n",
       "      <th>Empresa</th>\n",
       "      <th>Cliente</th>\n",
       "      <th>Cidade Destino</th>\n",
       "      <th>UF Destino</th>\n",
       "      <th>Peso</th>\n",
       "      <th>Valor</th>\n",
       "      <th>Volume</th>\n",
       "      <th>Estado</th>\n",
       "    </tr>\n",
       "  </thead>\n",
       "  <tbody>\n",
       "    <tr>\n",
       "      <th>0</th>\n",
       "      <td>LOJA08</td>\n",
       "      <td>CLIENTE16</td>\n",
       "      <td>Brasilia</td>\n",
       "      <td>DF</td>\n",
       "      <td>0.0</td>\n",
       "      <td>229.00</td>\n",
       "      <td>2</td>\n",
       "      <td>DF</td>\n",
       "    </tr>\n",
       "    <tr>\n",
       "      <th>1</th>\n",
       "      <td>LOJA08</td>\n",
       "      <td>CLIENTE16</td>\n",
       "      <td>Brasilia</td>\n",
       "      <td>DF</td>\n",
       "      <td>0.0</td>\n",
       "      <td>783.82</td>\n",
       "      <td>2</td>\n",
       "      <td>DF</td>\n",
       "    </tr>\n",
       "  </tbody>\n",
       "</table>\n",
       "</div>"
      ],
      "text/plain": [
       "  Empresa    Cliente Cidade Destino UF Destino  Peso   Valor  Volume Estado\n",
       "0  LOJA08  CLIENTE16       Brasilia         DF   0.0  229.00       2     DF\n",
       "1  LOJA08  CLIENTE16       Brasilia         DF   0.0  783.82       2     DF"
      ]
     },
     "metadata": {},
     "output_type": "display_data"
    },
    {
     "data": {
      "text/plain": [
       "(1786, 8)"
      ]
     },
     "metadata": {},
     "output_type": "display_data"
    }
   ],
   "source": [
    "#importando pacotes\n",
    "import pandas as pd\n",
    "import matplotlib\n",
    "import matplotlib.pyplot as plt\n",
    "import numpy as np\n",
    "\n",
    "#lendo arquivos\n",
    "df = pd.read_excel(\"Fonte_venda_ficticio.xlsx\")\n",
    "#mostrando apenas as 2 primeiras linhas\n",
    "display(df.head(2))\n",
    "#mostrando a qtd de linhas e colunas\n",
    "display(df.shape)\n"
   ]
  },
  {
   "cell_type": "code",
   "execution_count": 172,
   "id": "9a88914d",
   "metadata": {},
   "outputs": [
    {
     "data": {
      "text/html": [
       "<div>\n",
       "<style scoped>\n",
       "    .dataframe tbody tr th:only-of-type {\n",
       "        vertical-align: middle;\n",
       "    }\n",
       "\n",
       "    .dataframe tbody tr th {\n",
       "        vertical-align: top;\n",
       "    }\n",
       "\n",
       "    .dataframe thead th {\n",
       "        text-align: right;\n",
       "    }\n",
       "</style>\n",
       "<table border=\"1\" class=\"dataframe\">\n",
       "  <thead>\n",
       "    <tr style=\"text-align: right;\">\n",
       "      <th></th>\n",
       "      <th>Peso</th>\n",
       "      <th>Valor_Total</th>\n",
       "      <th>Volume</th>\n",
       "    </tr>\n",
       "  </thead>\n",
       "  <tbody>\n",
       "    <tr>\n",
       "      <th>count</th>\n",
       "      <td>1786.000000</td>\n",
       "      <td>1.786000e+03</td>\n",
       "      <td>1786.000000</td>\n",
       "    </tr>\n",
       "    <tr>\n",
       "      <th>mean</th>\n",
       "      <td>242.975264</td>\n",
       "      <td>8.272381e+03</td>\n",
       "      <td>4.325868</td>\n",
       "    </tr>\n",
       "    <tr>\n",
       "      <th>std</th>\n",
       "      <td>4648.162114</td>\n",
       "      <td>6.481348e+04</td>\n",
       "      <td>13.454068</td>\n",
       "    </tr>\n",
       "    <tr>\n",
       "      <th>min</th>\n",
       "      <td>0.000000</td>\n",
       "      <td>0.000000e+00</td>\n",
       "      <td>0.000000</td>\n",
       "    </tr>\n",
       "    <tr>\n",
       "      <th>25%</th>\n",
       "      <td>0.000000</td>\n",
       "      <td>6.520000e+02</td>\n",
       "      <td>1.000000</td>\n",
       "    </tr>\n",
       "    <tr>\n",
       "      <th>50%</th>\n",
       "      <td>1.000000</td>\n",
       "      <td>1.800000e+03</td>\n",
       "      <td>1.000000</td>\n",
       "    </tr>\n",
       "    <tr>\n",
       "      <th>75%</th>\n",
       "      <td>6.575000</td>\n",
       "      <td>4.883460e+03</td>\n",
       "      <td>3.000000</td>\n",
       "    </tr>\n",
       "    <tr>\n",
       "      <th>max</th>\n",
       "      <td>156390.000000</td>\n",
       "      <td>2.093558e+06</td>\n",
       "      <td>300.000000</td>\n",
       "    </tr>\n",
       "  </tbody>\n",
       "</table>\n",
       "</div>"
      ],
      "text/plain": [
       "                Peso   Valor_Total       Volume\n",
       "count    1786.000000  1.786000e+03  1786.000000\n",
       "mean      242.975264  8.272381e+03     4.325868\n",
       "std      4648.162114  6.481348e+04    13.454068\n",
       "min         0.000000  0.000000e+00     0.000000\n",
       "25%         0.000000  6.520000e+02     1.000000\n",
       "50%         1.000000  1.800000e+03     1.000000\n",
       "75%         6.575000  4.883460e+03     3.000000\n",
       "max    156390.000000  2.093558e+06   300.000000"
      ]
     },
     "execution_count": 172,
     "metadata": {},
     "output_type": "execute_result"
    }
   ],
   "source": [
    "#Removendo colunas\n",
    "df = df.drop(\"Estado\", axis=1)\n",
    "\n",
    "#renomendo colunas\n",
    "df.rename(columns={'Empresa':'Lojas','Valor':'Valor_Total'}, inplace = True)\n",
    "#descrição brevia\n",
    "df.describe()"
   ]
  },
  {
   "cell_type": "code",
   "execution_count": 173,
   "id": "25d14bc1",
   "metadata": {},
   "outputs": [
    {
     "data": {
      "text/plain": [
       "array(['Brasilia', 'GOIANIA', 'FEIRA DE SANTANA', 'TRINDADE', 'SAO PAULO',\n",
       "       'CATALAO', 'RIO VERDE', 'PIRENOPOLIS', 'FORTALEZA', 'SOBRAL',\n",
       "       'MACEIO', 'LAURO DE FREITAS', 'ATIBAIA', 'EUSEBIO', 'AMERICANA',\n",
       "       'VITORIA', 'MANAUS', 'CAMPOS DO JORDAO', 'FLORIANOPOLIS',\n",
       "       'RIO BRANCO', 'BARREIRAS', 'FORMOSA', 'ALAGOINHAS',\n",
       "       'GOVERNADOR VALADARES', 'BIGUACU', 'CAMPINAS', 'BARRA DO CHOCA',\n",
       "       'BEBEDOURO'], dtype=object)"
      ]
     },
     "metadata": {},
     "output_type": "display_data"
    }
   ],
   "source": [
    "#Verificando dados distintos\n",
    "display(df['Cidade Destino'].unique())"
   ]
  },
  {
   "cell_type": "code",
   "execution_count": 174,
   "id": "f09d32ec",
   "metadata": {},
   "outputs": [],
   "source": [
    "#Alterando todos os dados da tabela\n",
    "df =df.replace({'Brasilia':'BRASILIA','SAO PAULO':'SP'})\n",
    "#Alteradno por coluna\n",
    "#df['Cidade Destino'].replace('Brasilia','BRASILIA')"
   ]
  },
  {
   "cell_type": "code",
   "execution_count": 175,
   "id": "0762d9b2",
   "metadata": {},
   "outputs": [
    {
     "data": {
      "text/plain": [
       "Lojas              object\n",
       "Cliente            object\n",
       "Cidade Destino     object\n",
       "UF Destino         object\n",
       "Peso              float64\n",
       "Valor_Total       float64\n",
       "Volume              int64\n",
       "dtype: object"
      ]
     },
     "execution_count": 175,
     "metadata": {},
     "output_type": "execute_result"
    }
   ],
   "source": [
    "#Verificando tipos\n",
    "df.dtypes"
   ]
  },
  {
   "cell_type": "code",
   "execution_count": 176,
   "id": "99308d66",
   "metadata": {},
   "outputs": [
    {
     "data": {
      "text/html": [
       "<div>\n",
       "<style scoped>\n",
       "    .dataframe tbody tr th:only-of-type {\n",
       "        vertical-align: middle;\n",
       "    }\n",
       "\n",
       "    .dataframe tbody tr th {\n",
       "        vertical-align: top;\n",
       "    }\n",
       "\n",
       "    .dataframe thead th {\n",
       "        text-align: right;\n",
       "    }\n",
       "</style>\n",
       "<table border=\"1\" class=\"dataframe\">\n",
       "  <thead>\n",
       "    <tr style=\"text-align: right;\">\n",
       "      <th></th>\n",
       "      <th>Peso</th>\n",
       "      <th>Volume</th>\n",
       "      <th>Valor_Total</th>\n",
       "    </tr>\n",
       "    <tr>\n",
       "      <th>Lojas</th>\n",
       "      <th></th>\n",
       "      <th></th>\n",
       "      <th></th>\n",
       "    </tr>\n",
       "  </thead>\n",
       "  <tbody>\n",
       "    <tr>\n",
       "      <th>LOJA01</th>\n",
       "      <td>0.000</td>\n",
       "      <td>1</td>\n",
       "      <td>3082.00</td>\n",
       "    </tr>\n",
       "    <tr>\n",
       "      <th>LOJA02</th>\n",
       "      <td>51.764</td>\n",
       "      <td>21</td>\n",
       "      <td>10413.56</td>\n",
       "    </tr>\n",
       "    <tr>\n",
       "      <th>LOJA03</th>\n",
       "      <td>44148.422</td>\n",
       "      <td>1156</td>\n",
       "      <td>1192359.20</td>\n",
       "    </tr>\n",
       "    <tr>\n",
       "      <th>LOJA04</th>\n",
       "      <td>1418.915</td>\n",
       "      <td>280</td>\n",
       "      <td>341352.15</td>\n",
       "    </tr>\n",
       "    <tr>\n",
       "      <th>LOJA05</th>\n",
       "      <td>24.680</td>\n",
       "      <td>226</td>\n",
       "      <td>191677.08</td>\n",
       "    </tr>\n",
       "    <tr>\n",
       "      <th>LOJA06</th>\n",
       "      <td>649.651</td>\n",
       "      <td>222</td>\n",
       "      <td>283754.18</td>\n",
       "    </tr>\n",
       "    <tr>\n",
       "      <th>LOJA07</th>\n",
       "      <td>1175.420</td>\n",
       "      <td>396</td>\n",
       "      <td>763321.89</td>\n",
       "    </tr>\n",
       "    <tr>\n",
       "      <th>LOJA08</th>\n",
       "      <td>192.000</td>\n",
       "      <td>896</td>\n",
       "      <td>3806915.87</td>\n",
       "    </tr>\n",
       "    <tr>\n",
       "      <th>LOJA09</th>\n",
       "      <td>108.000</td>\n",
       "      <td>37</td>\n",
       "      <td>4684650.30</td>\n",
       "    </tr>\n",
       "    <tr>\n",
       "      <th>LOJA10</th>\n",
       "      <td>48104.934</td>\n",
       "      <td>3783</td>\n",
       "      <td>2420897.19</td>\n",
       "    </tr>\n",
       "    <tr>\n",
       "      <th>LOJA11</th>\n",
       "      <td>329202.865</td>\n",
       "      <td>464</td>\n",
       "      <td>853211.25</td>\n",
       "    </tr>\n",
       "    <tr>\n",
       "      <th>LOJA12</th>\n",
       "      <td>8877.170</td>\n",
       "      <td>244</td>\n",
       "      <td>222837.12</td>\n",
       "    </tr>\n",
       "  </tbody>\n",
       "</table>\n",
       "</div>"
      ],
      "text/plain": [
       "              Peso  Volume  Valor_Total\n",
       "Lojas                                  \n",
       "LOJA01       0.000       1      3082.00\n",
       "LOJA02      51.764      21     10413.56\n",
       "LOJA03   44148.422    1156   1192359.20\n",
       "LOJA04    1418.915     280    341352.15\n",
       "LOJA05      24.680     226    191677.08\n",
       "LOJA06     649.651     222    283754.18\n",
       "LOJA07    1175.420     396    763321.89\n",
       "LOJA08     192.000     896   3806915.87\n",
       "LOJA09     108.000      37   4684650.30\n",
       "LOJA10   48104.934    3783   2420897.19\n",
       "LOJA11  329202.865     464    853211.25\n",
       "LOJA12    8877.170     244    222837.12"
      ]
     },
     "metadata": {},
     "output_type": "display_data"
    }
   ],
   "source": [
    "#Tabela; resumo das medidas peso, volume e valor.\n",
    "\n",
    "resumo = df.groupby('Lojas').sum()\n",
    "resumo = resumo[['Peso','Volume','Valor_Total']].sort_values(by=\"Lojas\",ascending=True)\n",
    "display(resumo)"
   ]
  },
  {
   "cell_type": "code",
   "execution_count": 177,
   "id": "bbde72a0",
   "metadata": {},
   "outputs": [
    {
     "data": {
      "image/png": "[encoded data removed]",
      "text/plain": [
       "<Figure size 1440x360 with 1 Axes>"
      ]
     },
     "metadata": {
      "needs_background": "light"
     },
     "output_type": "display_data"
    }
   ],
   "source": [
    "#ciando gráfico do valor total por estado\n",
    "valor = df.groupby('UF Destino', as_index=True)[\"Valor_Total\"].sum()\n",
    "#configurando style e exibindo o gráfico\n",
    "plt.figure(figsize =(20,5))\n",
    "plt.bar(valor.index, valor.values, width=0.5)\n",
    "plt.title('Valor total por Estado')\n",
    "plt.xlabel('UF de entrega')\n",
    "plt.xticks(rotation=45)\n",
    "plt.show()\n"
   ]
  },
  {
   "cell_type": "code",
   "execution_count": 178,
   "id": "7aeee371",
   "metadata": {},
   "outputs": [
    {
     "data": {
      "text/plain": [
       "Lojas\n",
       "LOJA01       3082.00\n",
       "LOJA02      10413.56\n",
       "LOJA03    1192359.20\n",
       "LOJA04     341352.15\n",
       "LOJA05     191677.08\n",
       "LOJA06     283754.18\n",
       "LOJA07     763321.89\n",
       "LOJA08    3806915.87\n",
       "LOJA09    4684650.30\n",
       "LOJA10    2420897.19\n",
       "LOJA11     853211.25\n",
       "LOJA12     222837.12\n",
       "Name: Valor_Total, dtype: float64"
      ]
     },
     "metadata": {},
     "output_type": "display_data"
    },
    {
     "data": {
      "image/png": "[encoded data removed]",
      "text/plain": [
       "<Figure size 1440x360 with 1 Axes>"
      ]
     },
     "metadata": {
      "needs_background": "light"
     },
     "output_type": "display_data"
    }
   ],
   "source": [
    "#Criando gráfico do valor total por loja\n",
    "loja= df.groupby('Lojas', as_index=True)[\"Valor_Total\"].sum()\n",
    "#Definindo as cores\n",
    "bar_color = ['tab:red', 'tab:blue', 'tab:green', 'tab:orange','tab:purple', 'tab:brown', 'tab:gray', 'tab:cyan','tab:olive', 'tab:pink', 'tab:red','tab:brown']\n",
    "#Verificando os valores\n",
    "display(loja)\n",
    "#Configuração do gráfico\n",
    "plt.figure(figsize=(20,5))\n",
    "plt.bar(loja.index, loja.values, width=0.5, color=bar_color)\n",
    "plt.title('Valor total por loja')\n",
    "plt.xlabel('Lojas')\n",
    "plt.xticks(rotation=45)\n",
    "plt.show()\n"
   ]
  },
  {
   "cell_type": "code",
   "execution_count": 179,
   "id": "e54bc1bd",
   "metadata": {},
   "outputs": [
    {
     "data": {
      "image/png": "[encoded data removed]",
      "text/plain": [
       "<Figure size 1440x360 with 1 Axes>"
      ]
     },
     "metadata": {
      "needs_background": "light"
     },
     "output_type": "display_data"
    }
   ],
   "source": [
    "lojavolume= df.groupby('Lojas', as_index=True)[\"Volume\"].sum()\n",
    "plt.figure(figsize=(20,5))\n",
    "plt.bar(lojavolume.index, lojavolume.values, width=0.5)\n",
    "plt.title('Volume total por loja')\n",
    "plt.xlabel('Lojas')\n",
    "plt.xticks(rotation=45)\n",
    "plt.show()"
   ]
  },
  {
   "cell_type": "code",
   "execution_count": 180,
   "id": "c8bfbc2f",
   "metadata": {
    "scrolled": true
   },
   "outputs": [
    {
     "name": "stdout",
     "output_type": "stream",
     "text": [
      "Total de clientes:\n",
      "30\n",
      "------------------------------------------------------------------------------------------------------------------------\n"
     ]
    },
    {
     "data": {
      "image/png": "[encoded data removed]",
      "text/plain": [
       "<Figure size 1080x216 with 3 Axes>"
      ]
     },
     "metadata": {
      "needs_background": "light"
     },
     "output_type": "display_data"
    }
   ],
   "source": [
    "volume = df.groupby('Lojas').sum()\n",
    "volume = volume[['Volume']].sort_values(by=\"Lojas\",ascending=True)\n",
    "peso = df.groupby('Lojas').sum()\n",
    "peso = peso[['Peso']].sort_values(by=\"Lojas\",ascending=True)\n",
    "total = df.groupby('Lojas').sum()\n",
    "total = total[['Valor_Total']].sort_values(by=\"Lojas\",ascending=True)\n",
    "cliente=df['Cliente'].unique()\n",
    "plt.figure(figsize=(15, 3))\n",
    "plt.suptitle('Resumo geral', fontsize= 20)\n",
    "plt.subplot(131)\n",
    "plt.title('Total Volume',fontsize= 15)\n",
    "plt.plot(volume.index, volume.values,color= 'orange')\n",
    "plt.xticks(rotation=45)\n",
    "plt.subplot(132)\n",
    "plt.title('Total Peso',fontsize= 15)\n",
    "plt.plot(peso.index, peso.values, color= 'blue')\n",
    "plt.xticks(rotation=45)\n",
    "plt.subplot(133)\n",
    "plt.title('Total Valor',fontsize= 15)\n",
    "plt.plot(total.index, total.values,color= 'green')\n",
    "plt.xticks(rotation=45)\n",
    "print('Total de clientes:')\n",
    "print(len(cliente))\n",
    "print(\"---\"*40)\n",
    "plt.tight_layout()\n",
    "plt.show()"
   ]
  },
  {
   "cell_type": "code",
   "execution_count": 195,
   "id": "25b48abc",
   "metadata": {
    "scrolled": true
   },
   "outputs": [
    {
     "data": {
      "image/png": "[encoded data removed]",
      "text/plain": [
       "<Figure size 1440x576 with 1 Axes>"
      ]
     },
     "metadata": {
      "needs_background": "light"
     },
     "output_type": "display_data"
    }
   ],
   "source": [
    "#Total de volume por cliente\n",
    "#Agrupando dados\n",
    "cliente = df.groupby('Cliente').sum()\n",
    "cliente = cliente[['Volume']].sort_values(by=\"Cliente\",ascending=True)\n",
    "\n",
    "fig, ax = plt.subplots(figsize=(20, 8))\n",
    "x = np.arange(len(cliente))\n",
    "\n",
    "# Plotando o gráfico\n",
    "grafico = ax.bar(x = x, height='Volume',  data=cliente) \n",
    "ax.set_title('Volume Total por Cliente', fontsize=16, pad=20)\n",
    "ax.set_xlabel('Clientes', fontsize=14, labelpad=10)\n",
    "ax.set_ylabel('Volume', fontsize=14, labelpad=10)\n",
    "ax.set_xticks(x)\n",
    "plt.xticks(rotation=45)\n",
    "ax.set_xticklabels(cliente.index)\n",
    "\n",
    "# colocando o rótulo nas barras\n",
    "# Criando uma função para adicionar rótulos sobre as barras do gráfico\n",
    "def rotulo(grafico):\n",
    "     for barra in grafico:\n",
    "            altura = barra.get_height()\n",
    "            largura = barra.get_width()\n",
    "            xpos = barra.get_x() + largura/2\n",
    "            ypos = 1.01 * altura\n",
    "            ax.text(x = xpos, y = ypos, s = altura, ha='center', va='bottom', fontsize=14)\n",
    "rotulo(grafico)\n",
    "plt.show()"
   ]
  },
  {
   "cell_type": "markdown",
   "id": "80bd2fac",
   "metadata": {},
   "source": [
    "<h5 align= \"justify\"> Fim </h5>"
   ]
  }
 ],
 "metadata": {
  "kernelspec": {
   "display_name": "Python 3",
   "language": "python",
   "name": "python3"
  },
  "language_info": {
   "codemirror_mode": {
    "name": "ipython",
    "version": 3
   },
   "file_extension": ".py",
   "mimetype": "text/x-python",
   "name": "python",
   "nbconvert_exporter": "python",
   "pygments_lexer": "ipython3",
   "version": "3.8.8"
  }
 },
 "nbformat": 4,
 "nbformat_minor": 5
}
